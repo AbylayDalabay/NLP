{
 "cells": [
  {
   "cell_type": "markdown",
   "id": "7e64985e-b564-4cda-8d31-386ab13367a2",
   "metadata": {},
   "source": [
    "## Задание\n",
    "\n",
    "1. Мы будем работать с (частичными) данными lenta.ru отсюда: https://www.kaggle.com/yutkin/corpus-of-russian-news-articles-from-lenta/\n",
    "2. Проведите препроцессинг текста. Разбейте данные на train и test для задачи классификации (в качестве метки класса будем использовать поле topic). В качестве данных для классификации в пунктах 3 и 5 возьмите\n",
    "    - только заголовки (title)\n",
    "    - только тексты новости (text)\n",
    "    - и то, и другое\n",
    "3. Обучите fastText для классификации текстов по темам. Сравните качество для разных данных из п. 2.\n",
    "4. Обучите свою модель w2v (или возьмите любую подходящую предобученную модель). Реализуйте функцию для вычисления вектора текста / заголовка / текста+заголовка как среднего вектора входящих в него слов. \n",
    "     - (Бонус) Модифицируйте функцию вычисления среднего вектора: взвешивайте вектора слов соответствующими весами tf-idf.\n",
    "5. Обучите на полученных средних векторах алгоритм классификации, сравните полученное качество с классификатором fastText. "
   ]
  },
  {
   "cell_type": "code",
   "execution_count": 4,
   "id": "4d0e64d2-1be2-4f91-a92f-91e10b60a2f4",
   "metadata": {},
   "outputs": [
    {
     "name": "stdout",
     "output_type": "stream",
     "text": [
      "--2024-12-23 10:17:15--  https://www.dropbox.com/s/ja23c9l1ppo9ix7/lenta-ru-news-part.csv?dl=0\n",
      "Resolving proxy-ws.cbank.kz (proxy-ws.cbank.kz)... 10.1.246.2\n",
      "Connecting to proxy-ws.cbank.kz (proxy-ws.cbank.kz)|10.1.246.2|:8080... connected.\n",
      "WARNING: cannot verify www.dropbox.com's certificate, issued by ‘emailAddress=support@fortinet.com,CN=FGT31D3Z17800088,OU=Certificate Authority,O=Fortinet,L=Sunnyvale,ST=California,C=US’:\n",
      "  Self-signed certificate encountered.\n",
      "Proxy request sent, awaiting response... 403 Forbidden\n",
      "2024-12-23 10:17:15 ERROR 403: Forbidden.\n",
      "\n"
     ]
    }
   ],
   "source": [
    "!wget -O data/lenta-ru-news-part.csv https://www.dropbox.com/s/ja23c9l1ppo9ix7/lenta-ru-news-part.csv?dl=0"
   ]
  },
  {
   "cell_type": "code",
   "execution_count": null,
   "id": "f8a9fbd5-d355-432e-ae9a-2915f425e56e",
   "metadata": {},
   "outputs": [],
   "source": [
    "lenta = pd.read_csv('data/lenta-ru-news-part.csv', usecols=['title', 'text', 'topic'])\n",
    "lenta.head()"
   ]
  }
 ],
 "metadata": {
  "kernelspec": {
   "display_name": "dalabaya",
   "language": "python",
   "name": "dalabaya"
  },
  "language_info": {
   "codemirror_mode": {
    "name": "ipython",
    "version": 3
   },
   "file_extension": ".py",
   "mimetype": "text/x-python",
   "name": "python",
   "nbconvert_exporter": "python",
   "pygments_lexer": "ipython3",
   "version": "3.13.0"
  }
 },
 "nbformat": 4,
 "nbformat_minor": 5
}
