{
 "cells": [
  {
   "cell_type": "code",
   "execution_count": 1,
   "id": "649df9d8-936c-4148-9b2f-2466b14aa686",
   "metadata": {},
   "outputs": [],
   "source": [
    "# imports\n",
    "import numpy as np\n",
    "\n",
    "import torch\n",
    "from torch.utils.data import DataLoader\n",
    "import torch.nn as nn\n",
    "import torch.nn.functional as F\n",
    "\n",
    "\n",
    "from sklearn.model_selection import train_test_split\n",
    "from sklearn.metrics import accuracy_score\n",
    "\n",
    "from transformers import AutoTokenizer\n",
    "\n",
    "from tqdm.auto import tqdm\n",
    "\n",
    "from torch.nn.utils.rnn import pad_sequence\n",
    "\n",
    "import matplotlib.pyplot as plt\n",
    "from IPython.display import clear_output\n",
    "\n",
    "import os\n",
    "os.environ['http_proxy'] = \"http://proxy-ws.cbank.kz:8080\"\n",
    "os.environ['https_proxy'] = \"http://proxy-ws.cbank.kz:8080\""
   ]
  },
  {
   "cell_type": "code",
   "execution_count": 2,
   "id": "19f125e6-a007-44f4-bc15-02295d84886e",
   "metadata": {},
   "outputs": [],
   "source": [
    "with open('data/anek.txt', 'r') as file:\n",
    "    aneki = file.read().strip().replace('<|startoftext|>', '').split('\\n\\n')"
   ]
  },
  {
   "cell_type": "code",
   "execution_count": 3,
   "id": "8598bc06-309d-4c7f-adde-5d588e8c9ec5",
   "metadata": {
    "scrolled": true
   },
   "outputs": [
    {
     "data": {
      "text/plain": [
       "'Невероятно, но предложение \"Не верьте всему, что находите в Интернете\" читается в обе стороны одинаково!'"
      ]
     },
     "execution_count": 3,
     "metadata": {},
     "output_type": "execute_result"
    }
   ],
   "source": [
    "aneki[555]"
   ]
  },
  {
   "cell_type": "code",
   "execution_count": 4,
   "id": "5b932403-a5df-46d0-adad-4613796a34fb",
   "metadata": {},
   "outputs": [
    {
     "name": "stdout",
     "output_type": "stream",
     "text": [
      "29564\n"
     ]
    },
    {
     "name": "stderr",
     "output_type": "stream",
     "text": [
      "/opt/conda/lib/python3.11/site-packages/transformers/tokenization_utils_base.py:1601: FutureWarning: `clean_up_tokenization_spaces` was not set. It will be set to `True` by default. This behavior will be depracted in transformers v4.45, and will be then set to `False` by default. For more details check this issue: https://github.com/huggingface/transformers/issues/31884\n",
      "  warnings.warn(\n"
     ]
    }
   ],
   "source": [
    "tokenizer = AutoTokenizer.from_pretrained(\"cointegrated/rubert-tiny\")\n",
    "\n",
    "print(len(tokenizer))"
   ]
  },
  {
   "cell_type": "code",
   "execution_count": 5,
   "id": "667ab7d8-4bca-4b5c-909d-d479a6b52427",
   "metadata": {},
   "outputs": [],
   "source": [
    "train_texts, test_texts = train_test_split(\n",
    "    aneki,\n",
    "    test_size=0.1,\n",
    "    shuffle=True\n",
    ")"
   ]
  },
  {
   "cell_type": "code",
   "execution_count": 6,
   "id": "3c641053-64bb-4364-a680-cb7360ef3e1a",
   "metadata": {},
   "outputs": [],
   "source": [
    "def collate_fn(batch):\n",
    "    batch_encoded = [torch.LongTensor(tokenizer.encode(text)) for text in batch]\n",
    "    batch_padded = pad_sequence(batch_encoded, batch_first=True, padding_value=tokenizer.pad_token_id)\n",
    "    return batch_padded"
   ]
  },
  {
   "cell_type": "code",
   "execution_count": 7,
   "id": "d87e4963-8ab5-466f-b877-0c64499db994",
   "metadata": {},
   "outputs": [],
   "source": [
    "train_loader = DataLoader(\n",
    "    train_texts, \n",
    "    batch_size=128, \n",
    "    shuffle=True,\n",
    "    pin_memory=True,\n",
    "    collate_fn=collate_fn\n",
    ")\n",
    "\n",
    "test_loader = DataLoader(\n",
    "    test_texts,\n",
    "    batch_size=1,\n",
    "    shuffle=False,\n",
    "    pin_memory=True,\n",
    "    collate_fn=collate_fn\n",
    ")"
   ]
  },
  {
   "cell_type": "code",
   "execution_count": 8,
   "id": "096a658c-95f7-4272-98de-16d421ec0aba",
   "metadata": {},
   "outputs": [],
   "source": [
    "device = torch.device('cuda' if torch.cuda.is_available() else 'cpu')"
   ]
  },
  {
   "cell_type": "markdown",
   "id": "84467c60-e89a-43c7-8b27-2593f254c50c",
   "metadata": {},
   "source": [
    "Формула LSTM, йуху\n",
    "\n",
    "$$\n",
    "\\begin{gathered}\n",
    "f_t=\\sigma\\left(W_f \\cdot\\left[h_{t-1}, x_t\\right]+b_f\\right) \\\\\n",
    "i_t=\\sigma\\left(W_i \\cdot\\left[h_{t-1}, x_t\\right]+b_i\\right) \\\\\n",
    "o_t=\\sigma\\left(W_o \\cdot\\left[h_{t-1}, x_t\\right]+b_o\\right) \\\\\n",
    "\\tilde{C}_t=\\tanh \\left(W_c \\cdot\\left[h_{t-1}, x_t\\right]+b_c\\right) \\\\\n",
    "C_t=f_t \\odot C_{t-1}+i_t \\odot \\tilde{C}_t \\\\\n",
    "h_t=o_t \\odot \\tanh \\left(C_t\\right)\n",
    "\\end{gathered}\n",
    "$$"
   ]
  },
  {
   "cell_type": "code",
   "execution_count": 9,
   "id": "ba4987c3-dcf4-4539-b244-748eebdfe482",
   "metadata": {},
   "outputs": [],
   "source": [
    "def assert_check_shapes(lhs_shape, rhs_shape):\n",
    "    assertion_message = f\"Not equal shapes: {lhs_shape} instead of {rhs_shape}\"\n",
    "    assert lhs_shape == rhs_shape, assertion_message"
   ]
  },
  {
   "cell_type": "code",
   "execution_count": 10,
   "id": "f6174338-2ddd-4e42-8e94-c4a6a7281dbf",
   "metadata": {},
   "outputs": [],
   "source": [
    "class LSTMCell(nn.Module):\n",
    "    def __init__(self, num_tokens, embedding_size, hidden_embedding_size):\n",
    "        super(self.__class__, self).__init__()\n",
    "        self.num_tokens = num_tokens\n",
    "        self.embedding_size = embedding_size\n",
    "        self.hidden_embedding_size = hidden_embedding_size\n",
    "\n",
    "        self.embedding_layer = nn.Embedding(num_embeddings=num_tokens, embedding_dim=embedding_size)\n",
    "        \n",
    "        self.sigmoid = nn.Sigmoid()\n",
    "        self.tanh = nn.Tanh()\n",
    "        \n",
    "        self.forget_linear = nn.Linear(embedding_size + hidden_embedding_size, hidden_embedding_size)\n",
    "        self.input_linear = nn.Linear(embedding_size + hidden_embedding_size, hidden_embedding_size)\n",
    "        self.output_linear = nn.Linear(embedding_size + hidden_embedding_size, hidden_embedding_size)\n",
    "        self.short_memory_linear = nn.Linear(embedding_size + hidden_embedding_size, hidden_embedding_size)\n",
    "\n",
    "        self.classifer_to_raw_logits = nn.Linear(hidden_embedding_size, num_tokens)\n",
    "    \n",
    "    def forward(self, x_input, last_hidden_state, last_short_memory):\n",
    "        x_embed = self.embedding_layer(x_input)\n",
    "        \n",
    "        concat_state = torch.cat([x_embed, last_hidden_state], dim=-1)\n",
    "\n",
    "        forget_mask = self.sigmoid(self.forget_linear(concat_state))\n",
    "        input_mask = self.sigmoid(self.input_linear(concat_state))\n",
    "        output_mask = self.sigmoid(self.output_linear(concat_state))\n",
    "        short_memory_mask = self.tanh(self.short_memory_linear(concat_state))\n",
    "\n",
    "        new_short_memory = torch.mul(forget_mask, last_short_memory) + torch.mul(input_mask, short_memory_mask)\n",
    "\n",
    "        new_hidden_state = torch.mul(output_mask, self.tanh(new_short_memory))\n",
    "\n",
    "        raw_logits = self.classifer_to_raw_logits(new_hidden_state)\n",
    "        \n",
    "        return {\n",
    "            'short_memory' : new_short_memory,\n",
    "            'hidden_state' : new_hidden_state,\n",
    "            'raw_logits' : raw_logits\n",
    "        }\n",
    "\n",
    "    def get_empty_start_state(self, batch_size):\n",
    "        return torch.zeros(batch_size, self.hidden_embedding_size, requires_grad=True)"
   ]
  },
  {
   "cell_type": "code",
   "execution_count": 11,
   "id": "48c59eac-7641-40fd-b30f-5891eb6a0a8f",
   "metadata": {},
   "outputs": [],
   "source": [
    "# x_0, x_1, ..., x_(batch_len - 1)\n",
    "# h_0 -> x_1\n",
    "# h_1 -> x_2\n",
    "# ...\n",
    "# h_(batch_len - 2) -> x_(batch_len - 1)\n",
    "\n",
    "# h_0, h_1, ..., h_(batch_len - 1)\n",
    "\n",
    "# Обрезаем все логиты с конца \n",
    "# а последовательность с начала\n",
    "\n",
    "def lstm_loop(lstm_cell: LSTMCell, batch: torch.Tensor):\n",
    "    batch_size = batch.shape[0]\n",
    "    \n",
    "    last_hidden_state = lstm_cell.get_empty_start_state(batch_size).to(device)\n",
    "    last_short_memory = lstm_cell.get_empty_start_state(batch_size).to(device)\n",
    "    \n",
    "    trans_batch = torch.transpose(batch, 1, 0)\n",
    "\n",
    "    all_logits = []\n",
    "    for batch_slice in trans_batch:\n",
    "        output = lstm_cell(\n",
    "            batch_slice.to(device), \n",
    "            last_hidden_state, \n",
    "            last_short_memory\n",
    "        )\n",
    "\n",
    "        last_short_memory = output['short_memory']\n",
    "        last_hidden_state = output['hidden_state']\n",
    "        raw_logits = output['raw_logits']\n",
    "\n",
    "        all_logits.append(torch.Tensor(raw_logits))\n",
    "    return {\n",
    "        'all_logits' : torch.stack(all_logits[:-1], dim=1),\n",
    "        'true_tokens' : torch.LongTensor(torch.transpose(trans_batch[1:], 1, 0))\n",
    "    }"
   ]
  },
  {
   "cell_type": "code",
   "execution_count": 12,
   "id": "6d14016a-fb70-4085-9e7a-be74b0fb7912",
   "metadata": {
    "scrolled": true
   },
   "outputs": [],
   "source": [
    "def train(lstm_cell):\n",
    "    assert torch.cuda.is_available()\n",
    "    \n",
    "    loss_fun = nn.CrossEntropyLoss()\n",
    "    optimizer = torch.optim.Adam(lstm_cell.parameters())\n",
    "    loss_history = []\n",
    "    \n",
    "    for batch in tqdm(train_loader, 'Iterating batches...'):\n",
    "        optimizer.zero_grad()\n",
    "        res = lstm_loop(lstm_cell, batch)\n",
    "    \n",
    "        all_logits_flat = torch.flatten(res['all_logits'], start_dim=0, end_dim=1).to(device)\n",
    "        true_tokens_flat = torch.flatten(res['true_tokens']).to(device)\n",
    "    \n",
    "        loss = loss_fun(all_logits_flat, true_tokens_flat)\n",
    "        loss.backward()\n",
    "        optimizer.step()\n",
    "    \n",
    "        loss_history.append(loss.data.item())\n",
    "        clear_output(True)\n",
    "        plt.plot(loss_history, label=\"loss\")\n",
    "        plt.legend()\n",
    "        plt.show()\n",
    "\n",
    "    return lstm_cell"
   ]
  },
  {
   "cell_type": "code",
   "execution_count": 13,
   "id": "4ad8a481-aac0-41a3-a109-7cd8a0007b8a",
   "metadata": {},
   "outputs": [],
   "source": [
    "lstm_cell = LSTMCell(\n",
    "    num_tokens=len(tokenizer),\n",
    "    embedding_size=256,\n",
    "    hidden_embedding_size=256\n",
    ").to(device)"
   ]
  },
  {
   "cell_type": "code",
   "execution_count": 14,
   "id": "4a969456-c6b3-4acd-9b9f-9c09e0100fe0",
   "metadata": {},
   "outputs": [
    {
     "data": {
      "image/png": "[encoded data removed]",
      "text/plain": [
       "<Figure size 640x480 with 1 Axes>"
      ]
     },
     "metadata": {},
     "output_type": "display_data"
    }
   ],
   "source": [
    "lstm_cell = train(lstm_cell)"
   ]
  },
  {
   "cell_type": "code",
   "execution_count": 15,
   "id": "af6af779-759f-4c80-a40a-bdc30965fadf",
   "metadata": {},
   "outputs": [],
   "source": [
    "@torch.inference_mode()\n",
    "def evaluate_accuracy(lstm_cell: LSTMCell, test_loader, tokenizer):\n",
    "    batch_size = test_loader.batch_size\n",
    "    last_hidden_state = lstm_cell.get_empty_start_state(1).to(device)\n",
    "    last_short_memory = lstm_cell.get_empty_start_state(1).to(device)\n",
    "\n",
    "    true_tokens = []\n",
    "    pred_tokens = []\n",
    "    with torch.no_grad():\n",
    "        for batch in tqdm(test_loader, desc='Inferencing batches...'):\n",
    "            output = lstm_loop(lstm_cell, batch)\n",
    "                \n",
    "            argmax_logits = torch.argmax(output['all_logits'], dim=-1)\n",
    "\n",
    "            true_tokens.extend(output['true_tokens'].tolist()[0])\n",
    "            pred_tokens.extend(argmax_logits.tolist()[0])\n",
    "\n",
    "    overall_acc_score = accuracy_score(\n",
    "        true_tokens,\n",
    "        pred_tokens\n",
    "    )\n",
    "\n",
    "    print(\"Macro accuracy score: \", round(overall_acc_score, 5))"
   ]
  },
  {
   "cell_type": "code",
   "execution_count": 16,
   "id": "980a03b2-170c-454e-977d-3df6603342c4",
   "metadata": {},
   "outputs": [
    {
     "data": {
      "application/vnd.jupyter.widget-view+json": {
       "model_id": "e2dcd22887a54a94b4476924a16f1106",
       "version_major": 2,
       "version_minor": 0
      },
      "text/plain": [
       "Inferencing batches...:   0%|          | 0/12416 [00:00<?, ?it/s]"
      ]
     },
     "metadata": {},
     "output_type": "display_data"
    },
    {
     "name": "stdout",
     "output_type": "stream",
     "text": [
      "Macro accuracy score:  0.20264\n"
     ]
    }
   ],
   "source": [
    "evaluate_accuracy(lstm_cell, test_loader, tokenizer)"
   ]
  },
  {
   "cell_type": "code",
   "execution_count": 17,
   "id": "18adefc8-fca2-4fd0-8e9e-a3dc3a875385",
   "metadata": {},
   "outputs": [],
   "source": [
    "@torch.inference_mode()\n",
    "def generate(\n",
    "    lstm_cell: LSTMCell, \n",
    "    max_length=100, \n",
    "    temperature=1.0, \n",
    "    top_k_count=10\n",
    "):\n",
    "    CLS_TOKEN_ID = tokenizer.cls_token_id\n",
    "    SEP_TOKEN_ID = tokenizer.sep_token_id\n",
    "    \n",
    "    last_hidden_state = lstm_cell.get_empty_start_state(1).to(device)\n",
    "    last_short_memory = lstm_cell.get_empty_start_state(1).to(device)\n",
    "\n",
    "    generated_tokens = [CLS_TOKEN_ID]\n",
    "    \n",
    "    for i in range(max_length):\n",
    "        output = lstm_cell(\n",
    "            torch.LongTensor(generated_tokens[-1:]).to(device),\n",
    "            last_hidden_state,\n",
    "            last_short_memory\n",
    "        )\n",
    "\n",
    "        probas = F.softmax(output['raw_logits'] / temperature, dim=-1)\n",
    "        \n",
    "        topk_probas, topk_indices = probas.topk(top_k_count)\n",
    "        normalized_topk_probas = topk_probas / topk_probas.sum()\n",
    "\n",
    "        topk_indices = topk_indices.squeeze(dim=0)\n",
    "        normalized_topk_probas = normalized_topk_probas.squeeze(dim=0)\n",
    "        \n",
    "        selected_token_index = np.random.choice(\n",
    "            topk_indices.cpu().detach().numpy(), \n",
    "            p=normalized_topk_probas.cpu().detach().numpy()\n",
    "        )\n",
    "\n",
    "        if selected_token_index == SEP_TOKEN_ID:\n",
    "            break\n",
    "        \n",
    "        generated_tokens.append(selected_token_index)\n",
    "        \n",
    "        last_hidden_state = output['hidden_state']\n",
    "        last_short_memory = output['short_memory']\n",
    "\n",
    "    return generated_tokens[1:]"
   ]
  },
  {
   "cell_type": "code",
   "execution_count": 18,
   "id": "e2968616-8034-4f14-9164-103e59fb8208",
   "metadata": {
    "scrolled": true
   },
   "outputs": [
    {
     "name": "stdout",
     "output_type": "stream",
     "text": [
      "- Начальник на вам, а во время, что не сколько у меня устате на мной? - Так у меня не похоже.\n",
      "--------------------------------\n",
      "Если задумал. - Ничего \" Коном.\n",
      "--------------------------------\n",
      "Сидна, что с ужам - это почему не выйдет? - А что? - Ой! - Очень, зачем!\n",
      "--------------------------------\n",
      "Недавно вещит крыс спату, но счастливым : - Ты сколько это же ты не знает, в апла ужку с пусли, я бы посмотрищ тебе не покупать...\n",
      "--------------------------------\n",
      "- Вы пью мне.\n",
      "--------------------------------\n"
     ]
    }
   ],
   "source": [
    "gen_count = 5\n",
    "\n",
    "generated_token_indices = [generate(\n",
    "    lstm_cell,\n",
    "    max_length=400,\n",
    "    top_k_count=20,\n",
    "    temperature=1.0\n",
    ") for i in range(gen_count)]\n",
    "\n",
    "decoded_aneki = [tokenizer.decode(cur_indices) for cur_indices in generated_token_indices]\n",
    "\n",
    "for anek in decoded_aneki:\n",
    "    print(anek)\n",
    "    print(\"--------------------------------\")"
   ]
  },
  {
   "cell_type": "markdown",
   "id": "80bbbf21-f8a6-4e85-9d2c-14de99fa138a",
   "metadata": {},
   "source": [
    "### Пока коммитну вот так, перплексию и различные методы семплирования напишу потом"
   ]
  },
  {
   "cell_type": "code",
   "execution_count": null,
   "id": "6d15853e-9f0a-4489-b321-654551c7c47a",
   "metadata": {},
   "outputs": [],
   "source": []
  }
 ],
 "metadata": {
  "kernelspec": {
   "display_name": "Python 3 (ipykernel)",
   "language": "python",
   "name": "python3"
  },
  "language_info": {
   "codemirror_mode": {
    "name": "ipython",
    "version": 3
   },
   "file_extension": ".py",
   "mimetype": "text/x-python",
   "name": "python",
   "nbconvert_exporter": "python",
   "pygments_lexer": "ipython3",
   "version": "3.11.9"
  }
 },
 "nbformat": 4,
 "nbformat_minor": 5
}
