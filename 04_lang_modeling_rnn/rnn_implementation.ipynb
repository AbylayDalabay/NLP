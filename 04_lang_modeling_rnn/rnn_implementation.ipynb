{
 "cells": [
  {
   "cell_type": "code",
   "execution_count": 1,
   "metadata": {},
   "outputs": [],
   "source": [
    "import numpy as np\n",
    "\n",
    "import torch\n",
    "import torch.nn as nn\n",
    "\n",
    "import torch.nn.functional as F\n",
    "\n",
    "from tqdm import tqdm\n",
    "\n",
    "from IPython.display import clear_output\n",
    "\n",
    "import matplotlib.pyplot as plt\n",
    "\n",
    "from typing import List"
   ]
  },
  {
   "cell_type": "code",
   "execution_count": 2,
   "metadata": {},
   "outputs": [],
   "source": [
    "with open('onegin.txt', 'r') as iofile:\n",
    "    text = iofile.readlines()\n",
    "    \n",
    "text = \"\".join([x.replace('\\t\\t', '').lower() for x in text])"
   ]
  },
  {
   "cell_type": "code",
   "execution_count": 3,
   "metadata": {},
   "outputs": [
    {
     "name": "stdout",
     "output_type": "stream",
     "text": [
      "num_tokens: 84\n"
     ]
    }
   ],
   "source": [
    "SOS_TOKEN = '$'\n",
    "tokens = sorted(set(text.lower())) + [SOS_TOKEN]\n",
    "\n",
    "num_tokens = len(tokens)\n",
    "\n",
    "print(f\"num_tokens: {num_tokens}\")\n",
    "\n",
    "token_to_index = {token : index for index, token in enumerate(tokens)}\n",
    "index_to_token = {index : token for index, token in enumerate(tokens)}"
   ]
  },
  {
   "cell_type": "code",
   "execution_count": 4,
   "metadata": {},
   "outputs": [],
   "source": [
    "text_indices = [token_to_index[token] for token in text]"
   ]
  },
  {
   "cell_type": "code",
   "execution_count": 5,
   "metadata": {},
   "outputs": [],
   "source": [
    "def get_random_chunk(batch_size, seq_length):\n",
    "    text_len = len(text)\n",
    "    # start_index in [0, text_len - seq_length - 1]\n",
    "    start_indices = np.random.randint(low=0, high=text_len - seq_length, size=batch_size)\n",
    "    random_chunks = [[token_to_index[SOS_TOKEN]] + text_indices[start_index:start_index + seq_length] for start_index in start_indices]\n",
    "    random_chunks = np.array(random_chunks)\n",
    "    assert random_chunks.shape == (batch_size, seq_length + 1)\n",
    "    return random_chunks"
   ]
  },
  {
   "cell_type": "code",
   "execution_count": 6,
   "metadata": {},
   "outputs": [],
   "source": [
    "def assert_check_shapes(lhs_shape, rhs_shape):\n",
    "    assertion_message = f\"Not equal shapes: {lhs_shape} instead of {rhs_shape}\"\n",
    "    assert lhs_shape == rhs_shape, assertion_message"
   ]
  },
  {
   "cell_type": "code",
   "execution_count": 7,
   "metadata": {},
   "outputs": [],
   "source": [
    "class RNNCell(nn.Module):\n",
    "    def __init__(self, num_tokens, embedding_size, hidden_embedding_size):\n",
    "        super(self.__class__, self).__init__()\n",
    "        self.num_tokens = num_tokens\n",
    "        self.embedding_size = embedding_size\n",
    "        self.hidden_embedding_size = hidden_embedding_size\n",
    "\n",
    "        self.embedding_layer = nn.Embedding(num_embeddings=num_tokens, embedding_dim=embedding_size)\n",
    "\n",
    "        # input shape:              (batch_size, 1)\n",
    "        # with embeds shape:        (batch_size, embedding_size)\n",
    "        # last hidden state shape:  (batch_size, hidden_embedding_size)\n",
    "        self.W_to_new_hidden = nn.Linear(embedding_size + hidden_embedding_size, hidden_embedding_size)\n",
    "        self.W_to_raw_logits = nn.Linear(hidden_embedding_size, num_tokens)\n",
    "\n",
    "    def forward(self, input, last_hidden_state):\n",
    "        batch_size = input.shape[0]\n",
    "\n",
    "        # (batch, embedding_size)\n",
    "        input_embeddings = self.embedding_layer(input).squeeze(dim=1)\n",
    "        assert_check_shapes(\n",
    "            input_embeddings.shape, \n",
    "            (batch_size, self.embedding_size)\n",
    "        )\n",
    "\n",
    "        # (batch, embedding_size + hidden_embedding_size)\n",
    "        concat_input_and_last_hidden = torch.cat([input_embeddings, last_hidden_state], dim=-1)\n",
    "        assert_check_shapes(\n",
    "            concat_input_and_last_hidden.shape, \n",
    "            (batch_size, self.embedding_size + self.hidden_embedding_size)\n",
    "        )\n",
    "\n",
    "        # (batch, hidden_embedding_size)\n",
    "        new_hidden_state = self.W_to_new_hidden(concat_input_and_last_hidden)\n",
    "        assert_check_shapes(\n",
    "            new_hidden_state.shape, (batch_size, self.hidden_embedding_size)\n",
    "        )\n",
    "\n",
    "        # (batch, num_tokens)\n",
    "        raw_logits = self.W_to_raw_logits(new_hidden_state)\n",
    "        assert_check_shapes(\n",
    "            raw_logits.shape, \n",
    "            (batch_size, self.num_tokens)\n",
    "        )\n",
    "\n",
    "        return {\n",
    "            'raw_logits' : raw_logits,\n",
    "            'hidden_state' : new_hidden_state\n",
    "        }\n",
    "    \n",
    "    def get_start_state(self, batch_size):\n",
    "        return torch.zeros(batch_size, self.hidden_embedding_size, requires_grad=True)"
   ]
  },
  {
   "cell_type": "code",
   "execution_count": 8,
   "metadata": {},
   "outputs": [],
   "source": [
    "def rnn_loop(rnn_cell, batch_indices):\n",
    "    batch_size = batch_indices.shape[0]\n",
    "    seq_length = batch_indices.shape[1] - 1\n",
    "    \n",
    "    last_hidden_state = rnn_cell.get_start_state(batch_size)\n",
    "    \n",
    "    all_logits = []\n",
    "    true_tokens = []\n",
    "\n",
    "    for i in range(0, seq_length + 1):\n",
    "        input = torch.LongTensor(batch_indices[:, i]).unsqueeze(dim=-1)\n",
    "        assert input.shape == (batch_size, 1)\n",
    "        output = rnn_cell(input, last_hidden_state)\n",
    "        \n",
    "        all_logits.append(output['raw_logits'])\n",
    "        true_tokens.append(input)\n",
    "\n",
    "        last_hidden_state = output['hidden_state']\n",
    "\n",
    "    stacked_logits = torch.stack(all_logits, dim=1)\n",
    "    assert_check_shapes(\n",
    "        stacked_logits.shape, \n",
    "        (batch_size, seq_length + 1, num_tokens)\n",
    "    )\n",
    "\n",
    "    stacked_true_tokens = torch.stack(true_tokens, dim=-1).squeeze(dim=1)\n",
    "    assert_check_shapes(\n",
    "        stacked_true_tokens.shape,\n",
    "        (batch_size, seq_length + 1)\n",
    "    )\n",
    "    \n",
    "    return {\n",
    "        'stacked_logits' : stacked_logits,\n",
    "        'true_tokens' : stacked_true_tokens\n",
    "    }"
   ]
  },
  {
   "cell_type": "code",
   "execution_count": 9,
   "metadata": {},
   "outputs": [],
   "source": [
    "def train(\n",
    "    num_tokens, \n",
    "    seq_length,\n",
    "    embedding_size, \n",
    "    hidden_embedding_size, \n",
    "    batch_size=8,\n",
    "    epochs=1000\n",
    "):\n",
    "    rnn_cell = RNNCell(\n",
    "        num_tokens=num_tokens,\n",
    "        embedding_size=embedding_size,\n",
    "        hidden_embedding_size=hidden_embedding_size\n",
    "    )\n",
    "\n",
    "    loss_func = nn.CrossEntropyLoss()\n",
    "    optimizer = opt = torch.optim.Adam(rnn_cell.parameters())\n",
    "\n",
    "    loss_history = []\n",
    "    \n",
    "    for epoch in tqdm(range(epochs), desc='Iterating batches...'):\n",
    "        opt.zero_grad()\n",
    "        batch_indices = get_random_chunk(seq_length=seq_length, batch_size=batch_size)\n",
    "        output = rnn_loop(rnn_cell=rnn_cell, batch_indices=batch_indices)\n",
    "\n",
    "        stacked_logits = output['stacked_logits']\n",
    "        true_tokens = output['true_tokens']\n",
    "\n",
    "        stacked_logits_flat = torch.flatten(stacked_logits[:, :-1, :], end_dim=1)\n",
    "    \n",
    "        actual_next_tokens = torch.LongTensor(batch_indices[:, 1:].flatten())\n",
    "        \n",
    "        # print(\"------\")\n",
    "        # print(\"batch_indices: \", batch_indices.shape)\n",
    "        # print(\"stacked_logits: \", stacked_logits.shape)\n",
    "        # print(\"actual_next_tokens: \", actual_next_tokens.shape)\n",
    "        # print(\"------\")\n",
    "\n",
    "        # break\n",
    "\n",
    "        loss = loss_func(stacked_logits_flat, actual_next_tokens)\n",
    "\n",
    "        loss.backward()\n",
    "        optimizer.step()\n",
    "\n",
    "        if (epoch + 1) % 1 == 0:\n",
    "            loss_history.append(loss.data)\n",
    "            \n",
    "    plt.plot(loss_history, label=\"loss\")\n",
    "    plt.legend()\n",
    "    plt.show()\n",
    "            \n",
    "    return rnn_cell"
   ]
  },
  {
   "cell_type": "code",
   "execution_count": 10,
   "metadata": {},
   "outputs": [],
   "source": [
    "embedding_size = 32\n",
    "hidden_embedding_size = 64\n",
    "batch_size = 8\n",
    "seq_length = 128\n",
    "assert num_tokens == len(tokens)"
   ]
  },
  {
   "cell_type": "code",
   "execution_count": 11,
   "metadata": {},
   "outputs": [],
   "source": [
    "assert torch.cuda.is_available()"
   ]
  },
  {
   "cell_type": "code",
   "execution_count": 12,
   "metadata": {
    "scrolled": true
   },
   "outputs": [
    {
     "name": "stderr",
     "output_type": "stream",
     "text": [
      "Iterating batches...: 100%|██████████| 3000/3000 [01:24<00:00, 35.42it/s]\n"
     ]
    },
    {
     "data": {
      "image/png": "[encoded data removed]",
      "text/plain": [
       "<Figure size 640x480 with 1 Axes>"
      ]
     },
     "metadata": {},
     "output_type": "display_data"
    }
   ],
   "source": [
    "trained_rnn_cell = train(\n",
    "    num_tokens=num_tokens,\n",
    "    seq_length=seq_length,\n",
    "    embedding_size=embedding_size,\n",
    "    hidden_embedding_size=hidden_embedding_size,\n",
    "    batch_size=batch_size,\n",
    "    epochs=3000\n",
    ")"
   ]
  },
  {
   "cell_type": "code",
   "execution_count": 13,
   "metadata": {},
   "outputs": [],
   "source": [
    "@torch.inference_mode()\n",
    "def generate(\n",
    "    start_text: List[str], \n",
    "    rnn_cell: RNNCell,\n",
    "    max_length=100, \n",
    "    temperature=1.0\n",
    "):\n",
    "    zero_state = rnn_cell.get_start_state(batch_size=1)\n",
    "    last_output = {\n",
    "        'raw_logits' : None,\n",
    "        'hidden_state' : zero_state\n",
    "    }\n",
    "\n",
    "    start_indices = [token_to_index[x] for x in start_text]\n",
    "\n",
    "    for token_index in start_indices:\n",
    "        input = torch.LongTensor([token_index])\n",
    "\n",
    "        # print(\"input: \", input)\n",
    "        # print(\"last_hidden_state: \", last_hidden_state)\n",
    "\n",
    "        output = rnn_cell(input, last_output['hidden_state'])\n",
    "        last_output = output\n",
    "\n",
    "    text_gen = []\n",
    "    for i in range(max_length - len(start_text)):\n",
    "        next_token_probas = F.softmax(last_output['raw_logits'], dim=-1).squeeze(dim=0)\n",
    "        next_token_index = np.random.choice(num_tokens, p=next_token_probas.cpu().detach().numpy())\n",
    "\n",
    "        text_gen.append(index_to_token[next_token_index])\n",
    "\n",
    "        input = torch.LongTensor([next_token_index])\n",
    "        output = rnn_cell(input, last_output['hidden_state'])\n",
    "        last_output = output\n",
    "\n",
    "    return start_text + \"\".join(text_gen)"
   ]
  },
  {
   "cell_type": "code",
   "execution_count": 18,
   "metadata": {},
   "outputs": [],
   "source": [
    "START_TEXT = \"$\"\n",
    "\n",
    "gen_text = generate(\n",
    "    START_TEXT.lower(),\n",
    "    trained_rnn_cell,\n",
    "    max_length=500,\n",
    "    temperature=1.0\n",
    ")"
   ]
  },
  {
   "cell_type": "code",
   "execution_count": 19,
   "metadata": {},
   "outputs": [
    {
     "name": "stdout",
     "output_type": "stream",
     "text": [
      "$гон писрудвоне вогое.\n",
      "вслыс мn: от м одета ссверит, узьеня ва,\n",
      "натвихони звемой прямне\n",
      "прох д, ги дохо клихал былемой.\n",
      "жня ихнине стретни дер расу ва стоей.\n",
      "\n",
      "\n",
      "\n",
      "пого л вятными ноклов,\n",
      "о мушрог пошет;на носиватови пилевет,\n",
      "итак,\n",
      "веналаши ы вровит.\n",
      "ко брон,\n",
      "и эзу ненны, чни храгкоди\n",
      "\n",
      "\n",
      "ной лик д жечае писрмий трый,\n",
      "сегдаловута – чновы суполи ракот;\n",
      "олши мы голжа косей\n",
      "и ста, ко днолмане фоqры\n",
      "\n",
      "xxxiv\n",
      "\n",
      "\n",
      "прё далуж ив руе в слья.\n",
      "\n",
      "\n",
      "\n",
      "xxixix\n",
      "\n",
      "пески нь личто о вось, сериц\n",
      "в сериц, постотверый демил,\n",
      "вде о\n"
     ]
    }
   ],
   "source": [
    "print(gen_text)"
   ]
  },
  {
   "cell_type": "code",
   "execution_count": null,
   "metadata": {},
   "outputs": [],
   "source": []
  },
  {
   "cell_type": "code",
   "execution_count": null,
   "metadata": {},
   "outputs": [],
   "source": []
  }
 ],
 "metadata": {
  "kernelspec": {
   "display_name": "ml-env",
   "language": "python",
   "name": "python3"
  },
  "language_info": {
   "codemirror_mode": {
    "name": "ipython",
    "version": 3
   },
   "file_extension": ".py",
   "mimetype": "text/x-python",
   "name": "python",
   "nbconvert_exporter": "python",
   "pygments_lexer": "ipython3",
   "version": "3.12.6"
  }
 },
 "nbformat": 4,
 "nbformat_minor": 4
}
